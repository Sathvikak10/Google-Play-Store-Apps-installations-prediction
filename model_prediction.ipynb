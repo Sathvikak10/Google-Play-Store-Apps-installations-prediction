{
 "cells": [
  {
   "cell_type": "code",
   "execution_count": 1,
   "id": "13745914",
   "metadata": {},
   "outputs": [],
   "source": [
    "import pandas as pd\n",
    "import numpy as np\n",
    "from sklearn.ensemble import RandomForestClassifier, VotingClassifier, GradientBoostingClassifier\n",
    "from sklearn.tree import DecisionTreeClassifier, DecisionTreeRegressor\n",
    "from sklearn.model_selection import train_test_split, cross_val_score, GridSearchCV\n",
    "from sklearn.neighbors import KNeighborsClassifier\n",
    "from sklearn.metrics import accuracy_score\n",
    "from sklearn.model_selection import GridSearchCV"
   ]
  },
  {
   "cell_type": "code",
   "execution_count": 2,
   "id": "d2be945f",
   "metadata": {},
   "outputs": [],
   "source": [
    "dataset = pd.read_csv('google_playstore_cleaned_trail.csv')"
   ]
  },
  {
   "cell_type": "code",
   "execution_count": 3,
   "id": "76e2682e",
   "metadata": {},
   "outputs": [
    {
     "name": "stdout",
     "output_type": "stream",
     "text": [
      "Index(['App Name', 'Category', 'Rating', 'Rating Count', 'Installs', 'Price',\n",
      "       'Size', 'Content Rating', 'Game_genre'],\n",
      "      dtype='object')\n",
      "Index(['Category', 'Rating', 'Rating Count', 'Installs', 'Price', 'Size',\n",
      "       'Content Rating', 'Game_genre'],\n",
      "      dtype='object')\n"
     ]
    }
   ],
   "source": [
    "print(dataset.columns)\n",
    "dataset = dataset.drop(['App Name'], axis=1)\n",
    "print(dataset.columns)"
   ]
  },
  {
   "cell_type": "code",
   "execution_count": 4,
   "id": "f0d6233b",
   "metadata": {},
   "outputs": [],
   "source": [
    "dataset.loc[dataset['Installs'].isin(['0 - 100', '100 - 500', '500 - 1,000']), 'Installs'] = '0 - 1,000'\n",
    "dataset.loc[dataset['Installs'].isin(['1,000 - 5,000', '5,000 - 10,000']), 'Installs'] = '1,000 - 10,000'\n",
    "dataset.loc[dataset['Installs'].isin(['10,000 - 50,000', '50,000 - 100,000']), 'Installs'] = '10,000 - 100,000'\n",
    "dataset.loc[dataset['Installs'].isin(['100,000 - 500,000', '500,000 - 1,000,000']), 'Installs'] = '100,000 - 1,000,000'\n",
    "dataset.loc[dataset['Installs'].isin(['1,000,000 - 5,000,000', '5,000,000 - 10,000,000']), 'Installs'] = '1,000,000 - 10,000,000'\n",
    "dataset.loc[dataset['Installs'].isin(\n",
    "    ['10,000,000 - 50,000,000', '50,000,000 - 100,000,000']), 'Installs'] = '10,000,000 - 100,000,000'\n",
    "dataset.loc[dataset['Installs'].isin(\n",
    "    ['100,000,000 - 500,000,000', '500,000,000 - 1,000,000,000']), 'Installs'] = '100,000,000 - 1,000,000,000'\n",
    "dataset.loc[dataset['Installs'].isin(['1,000,000,000 - 5,000,000,000', '5,000,000,000+']), 'Installs'] = '1,000,000,000+'\n",
    "\n",
    "dataset.Installs = pd.Categorical(dataset.Installs, ['0 - 1,000', '1,000 - 10,000', '10,000 - 100,000', '100,000 - 1,000,000',\n",
    "                                           '1,000,000 - 10,000,000', '10,000,000 - 100,000,000',\n",
    "                                           '100,000,000 - 1,000,000,000', '1,000,000,000+'])"
   ]
  },
  {
   "cell_type": "code",
   "execution_count": 5,
   "id": "ebe97164",
   "metadata": {},
   "outputs": [
    {
     "name": "stdout",
     "output_type": "stream",
     "text": [
      "0 - 1,000                      650975\n",
      "1,000 - 10,000                 306211\n",
      "10,000 - 100,000               198642\n",
      "100,000 - 1,000,000             92666\n",
      "1,000,000 - 10,000,000          31807\n",
      "10,000,000 - 100,000,000         6306\n",
      "100,000,000 - 1,000,000,000       534\n",
      "1,000,000,000+                     49\n",
      "Name: Installs, dtype: int64\n",
      "(1287191, 8)\n"
     ]
    }
   ],
   "source": [
    "print(dataset.Installs.value_counts().sort_index())\n",
    "print(dataset.shape)"
   ]
  },
  {
   "cell_type": "code",
   "execution_count": 6,
   "id": "639155e9",
   "metadata": {},
   "outputs": [
    {
     "name": "stdout",
     "output_type": "stream",
     "text": [
      "Index(['Rating', 'Rating Count', 'Installs', 'Price', 'Size',\n",
      "       'Content Rating_Everyone', 'Content Rating_Everyone 10+',\n",
      "       'Content Rating_Mature 17+', 'Content Rating_Teen',\n",
      "       'Content Rating_Unrated', 'Category_Adventure', 'Category_Arcade',\n",
      "       'Category_Art & Design', 'Category_Auto & Vehicles', 'Category_Beauty',\n",
      "       'Category_Board', 'Category_Books & Reference', 'Category_Business',\n",
      "       'Category_Card', 'Category_Casino', 'Category_Casual',\n",
      "       'Category_Comics', 'Category_Communication', 'Category_Dating',\n",
      "       'Category_Education', 'Category_Educational', 'Category_Entertainment',\n",
      "       'Category_Events', 'Category_Finance', 'Category_Food & Drink',\n",
      "       'Category_Health & Fitness', 'Category_House & Home',\n",
      "       'Category_Libraries & Demo', 'Category_Lifestyle',\n",
      "       'Category_Maps & Navigation', 'Category_Medical', 'Category_Music',\n",
      "       'Category_Music & Audio', 'Category_News & Magazines',\n",
      "       'Category_Parenting', 'Category_Personalization',\n",
      "       'Category_Photography', 'Category_Productivity', 'Category_Puzzle',\n",
      "       'Category_Racing', 'Category_Role Playing', 'Category_Shopping',\n",
      "       'Category_Simulation', 'Category_Social', 'Category_Sports',\n",
      "       'Category_Strategy', 'Category_Tools', 'Category_Travel & Local',\n",
      "       'Category_Trivia', 'Category_Video Players & Editors',\n",
      "       'Category_Weather', 'Category_Word'],\n",
      "      dtype='object')\n"
     ]
    }
   ],
   "source": [
    "strat = dataset.Category.values\n",
    "dataset = pd.get_dummies(dataset, columns=['Content Rating', 'Category', 'Game_genre'], drop_first=True)\n",
    "print(dataset.columns)"
   ]
  },
  {
   "cell_type": "code",
   "execution_count": 7,
   "id": "05e4f642",
   "metadata": {},
   "outputs": [],
   "source": [
    "X = dataset.drop(['Installs'], axis=1).values\n",
    "y = dataset.Installs.values\n",
    "X_train, X_test, y_train, y_test = train_test_split(X, y, test_size=0.3, stratify=strat, random_state=42)"
   ]
  },
  {
   "cell_type": "code",
   "execution_count": 8,
   "id": "e339675f",
   "metadata": {},
   "outputs": [],
   "source": [
    "y_test=y_test.astype('category')\n",
    "y_train=y_train.astype('category')\n",
    "y=y.astype('category')"
   ]
  },
  {
   "cell_type": "code",
   "execution_count": 10,
   "id": "ee529846",
   "metadata": {},
   "outputs": [
    {
     "name": "stdout",
     "output_type": "stream",
     "text": [
      "Decision Tree train data accuracy: 0.61\n"
     ]
    }
   ],
   "source": [
    "dt = DecisionTreeClassifier(max_depth=8, max_features='sqrt')\n",
    "dt.fit(X_train, y_train)\n",
    "y_pred = dt.predict(X_train)\n",
    "\n",
    "acc = accuracy_score(y_train, y_pred)\n",
    "print(\"Decision Tree train data accuracy: {:.2f}\".format(acc))"
   ]
  },
  {
   "cell_type": "code",
   "execution_count": 11,
   "id": "a41f04cb",
   "metadata": {},
   "outputs": [
    {
     "name": "stdout",
     "output_type": "stream",
     "text": [
      "Decision Tree Test data accuracy: 0.60\n"
     ]
    }
   ],
   "source": [
    "dt.fit(X_train, y_train)\n",
    "y_pred = dt.predict(X_test)\n",
    "\n",
    "acc = accuracy_score(y_test.astype(str), y_pred)\n",
    "print(\"Decision Tree Test data accuracy: {:.2f}\".format(acc))"
   ]
  },
  {
   "cell_type": "code",
   "execution_count": 13,
   "id": "e384ba95",
   "metadata": {},
   "outputs": [
    {
     "name": "stdout",
     "output_type": "stream",
     "text": [
      "Random Forest Train data accuracy: 0.82\n"
     ]
    }
   ],
   "source": [
    "rf = RandomForestClassifier(max_depth=20, n_estimators=100)\n",
    "rf.fit(X_train, y_train)\n",
    "y_pred = rf.predict(X_train)\n",
    "\n",
    "acc = accuracy_score(y_train, y_pred)\n",
    "print(\"Random Forest Train data accuracy: {:.2f}\".format(acc))"
   ]
  },
  {
   "cell_type": "code",
   "execution_count": 14,
   "id": "d0984257",
   "metadata": {},
   "outputs": [
    {
     "name": "stdout",
     "output_type": "stream",
     "text": [
      "Random Forest Test data accuracy: 0.79237\n"
     ]
    }
   ],
   "source": [
    "rf.fit(X_train, y_train)\n",
    "y_pred = rf.predict(X_test)\n",
    "\n",
    "acc = accuracy_score(y_test.astype(str), y_pred)\n",
    "print(\"Random Forest Test data accuracy: {:.5f}\".format(acc))"
   ]
  },
  {
   "cell_type": "code",
   "execution_count": null,
   "id": "8e3ecd75",
   "metadata": {},
   "outputs": [],
   "source": [
    "gbm = GradientBoostingClassifier(learning_rate=0.05, max_depth=8, n_estimators=400, verbose=1)\n",
    "gbm.fit(X_train, y_train)\n",
    "\n",
    "y_pred = gbm.predict(X_test)\n",
    "\n",
    "acc = accuracy_score(y_test.astype(str), y_pred)\n",
    "print(\"Gradient Boosting Classifier Test data accuracy: {:.5f}\".format(acc))"
   ]
  },
  {
   "cell_type": "code",
   "execution_count": null,
   "id": "a4b29635",
   "metadata": {},
   "outputs": [],
   "source": [
    "knn = KNeighborsClassifier()\n",
    "knn.fit(X_train, y_train)\n",
    "print('knn train data accuracy', knn.score(X_train, y_train))\n",
    "print('knn test data accuracy', knn.score(X_test, y_test.astype(str)))\n",
    "print('knn cross validation accuracy', np.mean(cross_val_score(knn, X, y, cv=5)))"
   ]
  },
  {
   "cell_type": "code",
   "execution_count": null,
   "id": "acf593ec",
   "metadata": {},
   "outputs": [],
   "source": []
  }
 ],
 "metadata": {
  "kernelspec": {
   "display_name": "Python 3 (ipykernel)",
   "language": "python",
   "name": "python3"
  },
  "language_info": {
   "codemirror_mode": {
    "name": "ipython",
    "version": 3
   },
   "file_extension": ".py",
   "mimetype": "text/x-python",
   "name": "python",
   "nbconvert_exporter": "python",
   "pygments_lexer": "ipython3",
   "version": "3.8.8"
  }
 },
 "nbformat": 4,
 "nbformat_minor": 5
}
